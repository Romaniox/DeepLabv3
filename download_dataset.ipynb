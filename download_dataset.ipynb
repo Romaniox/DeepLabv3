{
 "cells": [
  {
   "cell_type": "code",
   "execution_count": 2,
   "metadata": {
    "pycharm": {
     "name": "#%%\n"
    },
    "tags": []
   },
   "outputs": [],
   "source": [
    "import os\n",
    "import shutil\n",
    "import yadisk"
   ]
  },
  {
   "cell_type": "markdown",
   "metadata": {
    "tags": []
   },
   "source": [
    "# 360 dataset"
   ]
  },
  {
   "cell_type": "code",
   "execution_count": 10,
   "metadata": {
    "collapsed": false,
    "jupyter": {
     "outputs_hidden": false
    },
    "pycharm": {
     "name": "#%%\n"
    },
    "tags": []
   },
   "outputs": [],
   "source": [
    "dataset_name = \"dataset_250923_212027.zip\"\n",
    "dst_dir = f'./dataset_360/'"
   ]
  },
  {
   "cell_type": "code",
   "execution_count": 5,
   "metadata": {
    "collapsed": false,
    "jupyter": {
     "outputs_hidden": false
    },
    "pycharm": {
     "name": "#%%\n"
    },
    "tags": []
   },
   "outputs": [
    {
     "name": "stdout",
     "output_type": "stream",
     "text": [
      "True\n"
     ]
    }
   ],
   "source": [
    "y = yadisk.YaDisk(token=\"AQAAAAAMVWahAAfTaiJ9cMjIGEEgrmVtzgweW8E\")\n",
    "print(y.check_token())"
   ]
  },
  {
   "cell_type": "code",
   "execution_count": 8,
   "metadata": {
    "collapsed": false,
    "jupyter": {
     "outputs_hidden": false
    },
    "pycharm": {
     "name": "#%%\n"
    }
   },
   "outputs": [
    {
     "data": {
      "text/plain": [
       "<ResourceLinkObject{'href': 'https://cloud-api.yandex.net/v1/disk/resources?path=disk%3A%2FAllDatasets%2Fdeeplabv3%2Fgeo_ai%2F360%2Fbuilding%2Fdataset_250923_212027.zip', 'method': 'GET', 'templated': False, 'path': 'disk:/AllDatasets/deeplabv3/geo_ai/360/building/dataset_250923_212027.zip', 'public_key': None, 'public_url': None}>"
      ]
     },
     "execution_count": 8,
     "metadata": {},
     "output_type": "execute_result"
    }
   ],
   "source": [
    "os.makedirs(dst_dir, exist_ok=True)\n",
    "y.download(f'/AllDatasets/deeplabv3/geo_ai/360/building/{dataset_name}', f'{dst_dir}')"
   ]
  },
  {
   "cell_type": "code",
   "execution_count": 12,
   "metadata": {
    "collapsed": false,
    "jupyter": {
     "outputs_hidden": false
    },
    "pycharm": {
     "name": "#%%\n"
    }
   },
   "outputs": [],
   "source": [
    "# unzip\n",
    "shutil.unpack_archive(f'{dst_dir}/{dataset_name}', f'{dst_dir}/')"
   ]
  },
  {
   "cell_type": "markdown",
   "metadata": {},
   "source": [
    "# aerial dataset"
   ]
  },
  {
   "cell_type": "code",
   "execution_count": 9,
   "metadata": {
    "collapsed": false,
    "jupyter": {
     "outputs_hidden": false
    },
    "pycharm": {
     "name": "#%%\n"
    }
   },
   "outputs": [],
   "source": [
    "dataset_name = \"dataset_270923_220343.zip\"\n",
    "dst_dir = f'./dataset_roads_aerial/'\n",
    "\n",
    "dst_path = os.path.join(dst_dir, dataset_name.replace('.zip', ''))"
   ]
  },
  {
   "cell_type": "code",
   "execution_count": 4,
   "metadata": {
    "collapsed": false,
    "jupyter": {
     "outputs_hidden": false
    },
    "pycharm": {
     "name": "#%%\n"
    }
   },
   "outputs": [
    {
     "name": "stdout",
     "output_type": "stream",
     "text": [
      "True\n"
     ]
    }
   ],
   "source": [
    "y = yadisk.YaDisk(token=\"AQAAAAAMVWahAAfTaiJ9cMjIGEEgrmVtzgweW8E\")\n",
    "print(y.check_token())"
   ]
  },
  {
   "cell_type": "code",
   "execution_count": 6,
   "metadata": {
    "collapsed": false,
    "jupyter": {
     "outputs_hidden": false
    },
    "pycharm": {
     "name": "#%%\n"
    }
   },
   "outputs": [
    {
     "data": {
      "text/plain": [
       "<ResourceLinkObject{'href': 'https://cloud-api.yandex.net/v1/disk/resources?path=disk%3A%2FAllDatasets%2Fdeeplabv3%2Fgeo_ai%2Faerial%2Fdataset_270923_220343.zip', 'method': 'GET', 'templated': False, 'path': 'disk:/AllDatasets/deeplabv3/geo_ai/aerial/dataset_270923_220343.zip', 'public_key': None, 'public_url': None}>"
      ]
     },
     "execution_count": 6,
     "metadata": {},
     "output_type": "execute_result"
    }
   ],
   "source": [
    "os.makedirs(dst_path, exist_ok=True)\n",
    "y.download(f'/AllDatasets/deeplabv3/geo_ai/aerial/{dataset_name}', f'{dst_dir}/{dataset_name}')"
   ]
  },
  {
   "cell_type": "code",
   "execution_count": 11,
   "metadata": {
    "collapsed": false,
    "jupyter": {
     "outputs_hidden": false
    },
    "pycharm": {
     "name": "#%%\n"
    }
   },
   "outputs": [],
   "source": [
    "# unzip\n",
    "shutil.unpack_archive(f'{dst_dir}/{dataset_name}', f'{dst_path}/')"
   ]
  }
 ],
 "metadata": {
  "kernelspec": {
   "display_name": "yolov8",
   "language": "python",
   "name": "yolov8"
  },
  "language_info": {
   "codemirror_mode": {
    "name": "ipython",
    "version": 3
   },
   "file_extension": ".py",
   "mimetype": "text/x-python",
   "name": "python",
   "nbconvert_exporter": "python",
   "pygments_lexer": "ipython3",
   "version": "3.10.10"
  }
 },
 "nbformat": 4,
 "nbformat_minor": 4
}
